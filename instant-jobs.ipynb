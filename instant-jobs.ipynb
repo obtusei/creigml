{
 "cells": [
  {
   "cell_type": "code",
   "execution_count": 1,
   "metadata": {},
   "outputs": [],
   "source": [
    "import pandas as pd\n",
    "import numpy as np\n",
    "import sqlite3"
   ]
  },
  {
   "cell_type": "code",
   "execution_count": 2,
   "metadata": {},
   "outputs": [],
   "source": [
    "conn = sqlite3.connect('../creig-server-1/prisma/test.db')"
   ]
  },
  {
   "cell_type": "code",
   "execution_count": 3,
   "metadata": {},
   "outputs": [
    {
     "data": {
      "text/html": [
       "<div>\n",
       "<style scoped>\n",
       "    .dataframe tbody tr th:only-of-type {\n",
       "        vertical-align: middle;\n",
       "    }\n",
       "\n",
       "    .dataframe tbody tr th {\n",
       "        vertical-align: top;\n",
       "    }\n",
       "\n",
       "    .dataframe thead th {\n",
       "        text-align: right;\n",
       "    }\n",
       "</style>\n",
       "<table border=\"1\" class=\"dataframe\">\n",
       "  <thead>\n",
       "    <tr style=\"text-align: right;\">\n",
       "      <th></th>\n",
       "      <th>id</th>\n",
       "      <th>title</th>\n",
       "      <th>description</th>\n",
       "      <th>typeId</th>\n",
       "      <th>locationId</th>\n",
       "      <th>rateId</th>\n",
       "      <th>creatorId</th>\n",
       "      <th>createdAt</th>\n",
       "      <th>updatedAt</th>\n",
       "      <th>category</th>\n",
       "      <th>location</th>\n",
       "    </tr>\n",
       "  </thead>\n",
       "  <tbody>\n",
       "    <tr>\n",
       "      <th>0</th>\n",
       "      <td>bed0d85e-7a34-44ad-bb8d-2c63f761347b</td>\n",
       "      <td>Graphic Designer Needed</td>\n",
       "      <td>Need to design a company logo and branding mat...</td>\n",
       "      <td>8a710054-537a-4de0-afa5-44533319dbb6</td>\n",
       "      <td>d9950931-4bc9-4734-8fe8-1c88b0ab0c09</td>\n",
       "      <td>b5542965-465c-4423-8337-6e378c6154de</td>\n",
       "      <td>daac0b8b-0f92-41ae-a854-5dc6aa7a2275</td>\n",
       "      <td>1719815937375</td>\n",
       "      <td>1719815937375</td>\n",
       "      <td>Consulting</td>\n",
       "      <td>Pokhara</td>\n",
       "    </tr>\n",
       "    <tr>\n",
       "      <th>1</th>\n",
       "      <td>8e10a97b-cefc-4173-86d7-a2078d0d1901</td>\n",
       "      <td>Website Developer Required</td>\n",
       "      <td>Need to develop a responsive website for an e-...</td>\n",
       "      <td>a6e31aac-fc9e-4401-a333-05c9e894553b</td>\n",
       "      <td>d5edb1d1-bae5-4ad9-b71d-5c56d296b840</td>\n",
       "      <td>dd7808ed-638f-4e61-95e1-4a12355f4f24</td>\n",
       "      <td>d8a60c17-e975-48ec-984d-7b5601d9108c</td>\n",
       "      <td>1719815949259</td>\n",
       "      <td>1719815949259</td>\n",
       "      <td>Handyman Services</td>\n",
       "      <td>Hetauda</td>\n",
       "    </tr>\n",
       "    <tr>\n",
       "      <th>2</th>\n",
       "      <td>30a3b2ee-3194-4df7-aa0d-3b388e3a7e1f</td>\n",
       "      <td>Content Writer Needed</td>\n",
       "      <td>Need to write SEO optimized blog posts on vari...</td>\n",
       "      <td>46aed486-88ce-405b-847d-eff95e7c5169</td>\n",
       "      <td>d9950931-4bc9-4734-8fe8-1c88b0ab0c09</td>\n",
       "      <td>58bafc5b-efc6-4f67-9707-1d79090b9dae</td>\n",
       "      <td>e8c8c614-b006-4ce1-861d-a6ad18622361</td>\n",
       "      <td>1719815962114</td>\n",
       "      <td>1719815962114</td>\n",
       "      <td>Courier Services</td>\n",
       "      <td>Pokhara</td>\n",
       "    </tr>\n",
       "    <tr>\n",
       "      <th>3</th>\n",
       "      <td>b2906902-32e2-4cbd-8d86-529b094fd523</td>\n",
       "      <td>Photographer Needed for Event</td>\n",
       "      <td>Need to capture high-quality photos at a corpo...</td>\n",
       "      <td>a72a7baf-86c2-48d3-9f4b-3fbca75e80ed</td>\n",
       "      <td>d5edb1d1-bae5-4ad9-b71d-5c56d296b840</td>\n",
       "      <td>1ee95200-743f-46c4-b242-076d6f0052be</td>\n",
       "      <td>f49509f8-fd01-4481-b6a8-e2d4aac290ad</td>\n",
       "      <td>1719816032172</td>\n",
       "      <td>1719816032172</td>\n",
       "      <td>Digital Marketing</td>\n",
       "      <td>Hetauda</td>\n",
       "    </tr>\n",
       "    <tr>\n",
       "      <th>4</th>\n",
       "      <td>4aae55e9-739e-473a-8ea5-1887061f6d7b</td>\n",
       "      <td>Video Editor Required</td>\n",
       "      <td>Need to edit promotional videos for social med...</td>\n",
       "      <td>0546e60d-4b3f-4f37-80f3-2d4aef2bd3fb</td>\n",
       "      <td>829f45ed-5a75-4740-ad9c-919f5c245824</td>\n",
       "      <td>bbd83d97-a01d-4bd7-b96c-5a3042bf4eca</td>\n",
       "      <td>edff522c-f1e2-4293-a968-67d78759620c</td>\n",
       "      <td>1719816048456</td>\n",
       "      <td>1719816048456</td>\n",
       "      <td>Pet Sitting</td>\n",
       "      <td>Itahari</td>\n",
       "    </tr>\n",
       "  </tbody>\n",
       "</table>\n",
       "</div>"
      ],
      "text/plain": [
       "                                     id                          title  \\\n",
       "0  bed0d85e-7a34-44ad-bb8d-2c63f761347b        Graphic Designer Needed   \n",
       "1  8e10a97b-cefc-4173-86d7-a2078d0d1901     Website Developer Required   \n",
       "2  30a3b2ee-3194-4df7-aa0d-3b388e3a7e1f          Content Writer Needed   \n",
       "3  b2906902-32e2-4cbd-8d86-529b094fd523  Photographer Needed for Event   \n",
       "4  4aae55e9-739e-473a-8ea5-1887061f6d7b          Video Editor Required   \n",
       "\n",
       "                                         description  \\\n",
       "0  Need to design a company logo and branding mat...   \n",
       "1  Need to develop a responsive website for an e-...   \n",
       "2  Need to write SEO optimized blog posts on vari...   \n",
       "3  Need to capture high-quality photos at a corpo...   \n",
       "4  Need to edit promotional videos for social med...   \n",
       "\n",
       "                                 typeId                            locationId  \\\n",
       "0  8a710054-537a-4de0-afa5-44533319dbb6  d9950931-4bc9-4734-8fe8-1c88b0ab0c09   \n",
       "1  a6e31aac-fc9e-4401-a333-05c9e894553b  d5edb1d1-bae5-4ad9-b71d-5c56d296b840   \n",
       "2  46aed486-88ce-405b-847d-eff95e7c5169  d9950931-4bc9-4734-8fe8-1c88b0ab0c09   \n",
       "3  a72a7baf-86c2-48d3-9f4b-3fbca75e80ed  d5edb1d1-bae5-4ad9-b71d-5c56d296b840   \n",
       "4  0546e60d-4b3f-4f37-80f3-2d4aef2bd3fb  829f45ed-5a75-4740-ad9c-919f5c245824   \n",
       "\n",
       "                                 rateId                             creatorId  \\\n",
       "0  b5542965-465c-4423-8337-6e378c6154de  daac0b8b-0f92-41ae-a854-5dc6aa7a2275   \n",
       "1  dd7808ed-638f-4e61-95e1-4a12355f4f24  d8a60c17-e975-48ec-984d-7b5601d9108c   \n",
       "2  58bafc5b-efc6-4f67-9707-1d79090b9dae  e8c8c614-b006-4ce1-861d-a6ad18622361   \n",
       "3  1ee95200-743f-46c4-b242-076d6f0052be  f49509f8-fd01-4481-b6a8-e2d4aac290ad   \n",
       "4  bbd83d97-a01d-4bd7-b96c-5a3042bf4eca  edff522c-f1e2-4293-a968-67d78759620c   \n",
       "\n",
       "       createdAt      updatedAt           category location  \n",
       "0  1719815937375  1719815937375         Consulting  Pokhara  \n",
       "1  1719815949259  1719815949259  Handyman Services  Hetauda  \n",
       "2  1719815962114  1719815962114   Courier Services  Pokhara  \n",
       "3  1719816032172  1719816032172  Digital Marketing  Hetauda  \n",
       "4  1719816048456  1719816048456        Pet Sitting  Itahari  "
      ]
     },
     "execution_count": 3,
     "metadata": {},
     "output_type": "execute_result"
    }
   ],
   "source": [
    "jobs = pd.read_sql('SELECT InstantJobs.*, JobType.name as category, Location.name as location FROM InstantJobs JOIN JobType ON InstantJobs.typeId = JobType.id JOIN Location ON InstantJobs.locationId = Location.id',conn)\n",
    "jobs.head()"
   ]
  },
  {
   "cell_type": "code",
   "execution_count": 4,
   "metadata": {},
   "outputs": [],
   "source": [
    "jobs[\"description\"] = jobs[\"description\"].apply(lambda x:x.split())"
   ]
  },
  {
   "cell_type": "code",
   "execution_count": 5,
   "metadata": {},
   "outputs": [],
   "source": [
    "jobs['category'] = jobs['category'].apply(lambda x: [\"\".join(x)])"
   ]
  },
  {
   "cell_type": "code",
   "execution_count": 6,
   "metadata": {},
   "outputs": [],
   "source": [
    "jobs['location'] = jobs['location'].apply(lambda x: [\"\".join(x)])"
   ]
  },
  {
   "cell_type": "code",
   "execution_count": 7,
   "metadata": {},
   "outputs": [],
   "source": [
    "jobs[\"tags\"] = jobs[\"description\"] + jobs[\"category\"] + jobs[\"location\"]"
   ]
  },
  {
   "cell_type": "code",
   "execution_count": 8,
   "metadata": {},
   "outputs": [
    {
     "name": "stdout",
     "output_type": "stream",
     "text": [
      "<class 'pandas.core.frame.DataFrame'>\n",
      "RangeIndex: 33 entries, 0 to 32\n",
      "Data columns (total 3 columns):\n",
      " #   Column  Non-Null Count  Dtype \n",
      "---  ------  --------------  ----- \n",
      " 0   id      33 non-null     object\n",
      " 1   title   33 non-null     object\n",
      " 2   tags    33 non-null     object\n",
      "dtypes: object(3)\n",
      "memory usage: 924.0+ bytes\n"
     ]
    },
    {
     "name": "stderr",
     "output_type": "stream",
     "text": [
      "/tmp/ipykernel_49912/1230452298.py:2: SettingWithCopyWarning: \n",
      "A value is trying to be set on a copy of a slice from a DataFrame\n",
      "\n",
      "See the caveats in the documentation: https://pandas.pydata.org/pandas-docs/stable/user_guide/indexing.html#returning-a-view-versus-a-copy\n",
      "  new_jobs.dropna(inplace=True)\n"
     ]
    }
   ],
   "source": [
    "new_jobs = jobs[[\"id\",\"title\",\"tags\"]]\n",
    "new_jobs.dropna(inplace=True)\n",
    "new_jobs.info()"
   ]
  },
  {
   "cell_type": "code",
   "execution_count": 9,
   "metadata": {},
   "outputs": [],
   "source": [
    "from sklearn.feature_extraction.text import CountVectorizer"
   ]
  },
  {
   "cell_type": "code",
   "execution_count": 10,
   "metadata": {},
   "outputs": [],
   "source": [
    "cv = CountVectorizer(max_features = 100, stop_words=\"english\")"
   ]
  },
  {
   "cell_type": "code",
   "execution_count": 11,
   "metadata": {},
   "outputs": [
    {
     "name": "stderr",
     "output_type": "stream",
     "text": [
      "/tmp/ipykernel_49912/677792311.py:1: SettingWithCopyWarning: \n",
      "A value is trying to be set on a copy of a slice from a DataFrame.\n",
      "Try using .loc[row_indexer,col_indexer] = value instead\n",
      "\n",
      "See the caveats in the documentation: https://pandas.pydata.org/pandas-docs/stable/user_guide/indexing.html#returning-a-view-versus-a-copy\n",
      "  new_jobs[\"tags\"] = new_jobs['tags'].apply(lambda x:' '.join(x))\n"
     ]
    }
   ],
   "source": [
    "new_jobs[\"tags\"] = new_jobs['tags'].apply(lambda x:' '.join(x))"
   ]
  },
  {
   "cell_type": "code",
   "execution_count": 12,
   "metadata": {},
   "outputs": [
    {
     "data": {
      "text/plain": [
       "(33, 100)"
      ]
     },
     "execution_count": 12,
     "metadata": {},
     "output_type": "execute_result"
    }
   ],
   "source": [
    "cv.fit_transform(new_jobs[\"tags\"]).toarray().shape"
   ]
  },
  {
   "cell_type": "code",
   "execution_count": 13,
   "metadata": {},
   "outputs": [],
   "source": [
    "vectors = cv.fit_transform(new_jobs['tags']).toarray()"
   ]
  },
  {
   "cell_type": "code",
   "execution_count": 14,
   "metadata": {},
   "outputs": [],
   "source": [
    "from nltk.stem.porter import PorterStemmer\n",
    "ps = PorterStemmer()"
   ]
  },
  {
   "cell_type": "code",
   "execution_count": 15,
   "metadata": {},
   "outputs": [],
   "source": [
    "def stem(text):\n",
    "  y=[]\n",
    "  for i in text.split():\n",
    "    y.append(ps.stem(i))\n",
    "  return \" \".join(y)"
   ]
  },
  {
   "cell_type": "code",
   "execution_count": 16,
   "metadata": {},
   "outputs": [
    {
     "name": "stderr",
     "output_type": "stream",
     "text": [
      "/tmp/ipykernel_49912/1727861123.py:1: SettingWithCopyWarning: \n",
      "A value is trying to be set on a copy of a slice from a DataFrame.\n",
      "Try using .loc[row_indexer,col_indexer] = value instead\n",
      "\n",
      "See the caveats in the documentation: https://pandas.pydata.org/pandas-docs/stable/user_guide/indexing.html#returning-a-view-versus-a-copy\n",
      "  new_jobs['tags'] = new_jobs[\"tags\"].apply(stem)\n"
     ]
    }
   ],
   "source": [
    "new_jobs['tags'] = new_jobs[\"tags\"].apply(stem)"
   ]
  },
  {
   "cell_type": "code",
   "execution_count": 17,
   "metadata": {},
   "outputs": [],
   "source": [
    "from sklearn.metrics.pairwise import cosine_similarity"
   ]
  },
  {
   "cell_type": "code",
   "execution_count": 18,
   "metadata": {},
   "outputs": [
    {
     "data": {
      "text/plain": [
       "array([[1.        , 0.1767767 , 0.30151134, ..., 0.33333333, 0.25      ,\n",
       "        0.16666667],\n",
       "       [0.1767767 , 1.        , 0.21320072, ..., 0.11785113, 0.1767767 ,\n",
       "        0.11785113],\n",
       "       [0.30151134, 0.21320072, 1.        , ..., 0.20100756, 0.15075567,\n",
       "        0.10050378],\n",
       "       ...,\n",
       "       [0.33333333, 0.11785113, 0.20100756, ..., 1.        , 0.16666667,\n",
       "        0.11111111],\n",
       "       [0.25      , 0.1767767 , 0.15075567, ..., 0.16666667, 1.        ,\n",
       "        0.16666667],\n",
       "       [0.16666667, 0.11785113, 0.10050378, ..., 0.11111111, 0.16666667,\n",
       "        1.        ]])"
      ]
     },
     "execution_count": 18,
     "metadata": {},
     "output_type": "execute_result"
    }
   ],
   "source": [
    "cosine_similarity(vectors)"
   ]
  },
  {
   "cell_type": "code",
   "execution_count": 19,
   "metadata": {},
   "outputs": [],
   "source": [
    "similarity = cosine_similarity(vectors)"
   ]
  },
  {
   "cell_type": "code",
   "execution_count": 20,
   "metadata": {},
   "outputs": [],
   "source": [
    "def recommend(job):\n",
    "    # Check if the job exists in the new_jobs DataFrame\n",
    "    if job not in new_jobs['id'].values:\n",
    "        print(\"Job ID not found.\")\n",
    "        return\n",
    "\n",
    "    # Get the index of the job\n",
    "    job_index = new_jobs[new_jobs['id'] == job].index[0]\n",
    "\n",
    "    # Calculate distances\n",
    "    distances = similarity[job_index]\n",
    "\n",
    "    # Sort jobs based on distance and get top 5 similar jobs\n",
    "    jobs_list = sorted(list(enumerate(distances)), reverse=True, key=lambda x: x[1])[1:6]\n",
    "\n",
    "    # Print job IDs of the recommended jobs\n",
    "    for i in jobs_list:\n",
    "        print(new_jobs.iloc[i[0]].id)"
   ]
  },
  {
   "cell_type": "code",
   "execution_count": 22,
   "metadata": {},
   "outputs": [
    {
     "name": "stdout",
     "output_type": "stream",
     "text": [
      "9f64baa0-f96b-4e48-97bf-dad8ce7a039c\n",
      "4a3a0ed2-1c81-4e00-b3aa-8d83fdcb4f23\n",
      "87e2e566-1b5f-4d36-a526-64eb43353c7d\n",
      "fd99c630-2261-4546-bbc8-db72d73da615\n",
      "67fc3875-8595-476e-9c7c-ab43d9ddae22\n"
     ]
    }
   ],
   "source": [
    "recommend('8e10a97b-cefc-4173-86d7-a2078d0d1901')"
   ]
  },
  {
   "cell_type": "code",
   "execution_count": null,
   "metadata": {},
   "outputs": [],
   "source": []
  },
  {
   "cell_type": "code",
   "execution_count": null,
   "metadata": {},
   "outputs": [],
   "source": []
  },
  {
   "cell_type": "code",
   "execution_count": null,
   "metadata": {},
   "outputs": [],
   "source": []
  }
 ],
 "metadata": {
  "kernelspec": {
   "display_name": "base",
   "language": "python",
   "name": "python3"
  },
  "language_info": {
   "codemirror_mode": {
    "name": "ipython",
    "version": 3
   },
   "file_extension": ".py",
   "mimetype": "text/x-python",
   "name": "python",
   "nbconvert_exporter": "python",
   "pygments_lexer": "ipython3",
   "version": "3.1.-1"
  }
 },
 "nbformat": 4,
 "nbformat_minor": 2
}
