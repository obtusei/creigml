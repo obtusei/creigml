{
 "cells": [
  {
   "cell_type": "code",
   "execution_count": 2,
   "metadata": {},
   "outputs": [],
   "source": [
    "import pandas as pd\n",
    "import numpy as np\n",
    "import sqlite3"
   ]
  },
  {
   "cell_type": "code",
   "execution_count": 3,
   "metadata": {},
   "outputs": [],
   "source": [
    "conn = sqlite3.connect('../creig-server-1/prisma/test.db')"
   ]
  },
  {
   "cell_type": "code",
   "execution_count": 4,
   "metadata": {},
   "outputs": [
    {
     "data": {
      "text/html": [
       "<div>\n",
       "<style scoped>\n",
       "    .dataframe tbody tr th:only-of-type {\n",
       "        vertical-align: middle;\n",
       "    }\n",
       "\n",
       "    .dataframe tbody tr th {\n",
       "        vertical-align: top;\n",
       "    }\n",
       "\n",
       "    .dataframe thead th {\n",
       "        text-align: right;\n",
       "    }\n",
       "</style>\n",
       "<table border=\"1\" class=\"dataframe\">\n",
       "  <thead>\n",
       "    <tr style=\"text-align: right;\">\n",
       "      <th></th>\n",
       "      <th>id</th>\n",
       "      <th>title</th>\n",
       "      <th>description</th>\n",
       "      <th>creatorId</th>\n",
       "      <th>createdAt</th>\n",
       "      <th>updatedAt</th>\n",
       "      <th>jobTypeId</th>\n",
       "      <th>type</th>\n",
       "    </tr>\n",
       "  </thead>\n",
       "  <tbody>\n",
       "    <tr>\n",
       "      <th>0</th>\n",
       "      <td>fac0954a-2cdf-4c49-945c-11eb1ec34e5b</td>\n",
       "      <td>I can create beautiful website</td>\n",
       "      <td>I am proficient in developing beautiful and fu...</td>\n",
       "      <td>c9020099-95a9-4fc5-b803-0d98705373dc</td>\n",
       "      <td>1719987798155</td>\n",
       "      <td>1719987798155</td>\n",
       "      <td>488b4a66-ae2d-4499-bffe-a489b243c2b4</td>\n",
       "      <td>Voice Acting</td>\n",
       "    </tr>\n",
       "    <tr>\n",
       "      <th>1</th>\n",
       "      <td>6e81ab3a-26b5-4477-8bf0-80056ed28e56</td>\n",
       "      <td>I can develop mobile apps</td>\n",
       "      <td>Professional mobile app development services f...</td>\n",
       "      <td>ab6ba278-59d5-47ec-9861-08835b06de34</td>\n",
       "      <td>1719987798160</td>\n",
       "      <td>1719987798160</td>\n",
       "      <td>c887fec6-42e4-496c-9a5d-0c54315332f6</td>\n",
       "      <td>Music Production</td>\n",
       "    </tr>\n",
       "    <tr>\n",
       "      <th>2</th>\n",
       "      <td>97566f29-cf79-4662-9f85-340023294fcf</td>\n",
       "      <td>I can create and customize e-commerce website</td>\n",
       "      <td>I am proficient in developing beautiful and fu...</td>\n",
       "      <td>e8c8c614-b006-4ce1-861d-a6ad18622361</td>\n",
       "      <td>1719987798156</td>\n",
       "      <td>1719987798156</td>\n",
       "      <td>d02e9b11-f2e2-49a6-b6a9-c3faaf725752</td>\n",
       "      <td>Telehealth Services</td>\n",
       "    </tr>\n",
       "    <tr>\n",
       "      <th>3</th>\n",
       "      <td>b4a8f6a4-b91a-4e62-b4bc-31e62358016f</td>\n",
       "      <td>I can create stunning photography services</td>\n",
       "      <td>I am experienced in creating high-quality and ...</td>\n",
       "      <td>3865168b-e11b-4f57-bdbd-ea9368ba7b95</td>\n",
       "      <td>1719987798161</td>\n",
       "      <td>1719987798161</td>\n",
       "      <td>0546e60d-4b3f-4f37-80f3-2d4aef2bd3fb</td>\n",
       "      <td>Pet Sitting</td>\n",
       "    </tr>\n",
       "    <tr>\n",
       "      <th>4</th>\n",
       "      <td>73af2df4-9aa7-46a6-b3b0-a19ed4d732c2</td>\n",
       "      <td>I can create stunning logo designs</td>\n",
       "      <td>I am experienced in creating unique and profes...</td>\n",
       "      <td>30941653-64e2-4653-9d58-b668f6afa8a1</td>\n",
       "      <td>1719987798155</td>\n",
       "      <td>1719987798155</td>\n",
       "      <td>a6e31aac-fc9e-4401-a333-05c9e894553b</td>\n",
       "      <td>Handyman Services</td>\n",
       "    </tr>\n",
       "  </tbody>\n",
       "</table>\n",
       "</div>"
      ],
      "text/plain": [
       "                                     id  \\\n",
       "0  fac0954a-2cdf-4c49-945c-11eb1ec34e5b   \n",
       "1  6e81ab3a-26b5-4477-8bf0-80056ed28e56   \n",
       "2  97566f29-cf79-4662-9f85-340023294fcf   \n",
       "3  b4a8f6a4-b91a-4e62-b4bc-31e62358016f   \n",
       "4  73af2df4-9aa7-46a6-b3b0-a19ed4d732c2   \n",
       "\n",
       "                                           title  \\\n",
       "0                 I can create beautiful website   \n",
       "1                      I can develop mobile apps   \n",
       "2  I can create and customize e-commerce website   \n",
       "3     I can create stunning photography services   \n",
       "4             I can create stunning logo designs   \n",
       "\n",
       "                                         description  \\\n",
       "0  I am proficient in developing beautiful and fu...   \n",
       "1  Professional mobile app development services f...   \n",
       "2  I am proficient in developing beautiful and fu...   \n",
       "3  I am experienced in creating high-quality and ...   \n",
       "4  I am experienced in creating unique and profes...   \n",
       "\n",
       "                              creatorId      createdAt      updatedAt  \\\n",
       "0  c9020099-95a9-4fc5-b803-0d98705373dc  1719987798155  1719987798155   \n",
       "1  ab6ba278-59d5-47ec-9861-08835b06de34  1719987798160  1719987798160   \n",
       "2  e8c8c614-b006-4ce1-861d-a6ad18622361  1719987798156  1719987798156   \n",
       "3  3865168b-e11b-4f57-bdbd-ea9368ba7b95  1719987798161  1719987798161   \n",
       "4  30941653-64e2-4653-9d58-b668f6afa8a1  1719987798155  1719987798155   \n",
       "\n",
       "                              jobTypeId                 type  \n",
       "0  488b4a66-ae2d-4499-bffe-a489b243c2b4         Voice Acting  \n",
       "1  c887fec6-42e4-496c-9a5d-0c54315332f6     Music Production  \n",
       "2  d02e9b11-f2e2-49a6-b6a9-c3faaf725752  Telehealth Services  \n",
       "3  0546e60d-4b3f-4f37-80f3-2d4aef2bd3fb          Pet Sitting  \n",
       "4  a6e31aac-fc9e-4401-a333-05c9e894553b    Handyman Services  "
      ]
     },
     "execution_count": 4,
     "metadata": {},
     "output_type": "execute_result"
    }
   ],
   "source": [
    "jobs = pd.read_sql('SELECT Gig.*, JobType.name as type FROM Gig JOIN JobType ON Gig.jobTypeId = JobType.id',conn)\n",
    "jobs.head()"
   ]
  },
  {
   "cell_type": "code",
   "execution_count": 5,
   "metadata": {},
   "outputs": [],
   "source": [
    "jobs[\"title\"] = jobs[\"title\"].apply(lambda x:x.split())\n",
    "jobs[\"description\"] = jobs[\"description\"].apply(lambda x:x.split())"
   ]
  },
  {
   "cell_type": "code",
   "execution_count": 6,
   "metadata": {},
   "outputs": [
    {
     "data": {
      "text/html": [
       "<div>\n",
       "<style scoped>\n",
       "    .dataframe tbody tr th:only-of-type {\n",
       "        vertical-align: middle;\n",
       "    }\n",
       "\n",
       "    .dataframe tbody tr th {\n",
       "        vertical-align: top;\n",
       "    }\n",
       "\n",
       "    .dataframe thead th {\n",
       "        text-align: right;\n",
       "    }\n",
       "</style>\n",
       "<table border=\"1\" class=\"dataframe\">\n",
       "  <thead>\n",
       "    <tr style=\"text-align: right;\">\n",
       "      <th></th>\n",
       "      <th>id</th>\n",
       "      <th>title</th>\n",
       "      <th>description</th>\n",
       "      <th>creatorId</th>\n",
       "      <th>createdAt</th>\n",
       "      <th>updatedAt</th>\n",
       "      <th>jobTypeId</th>\n",
       "      <th>type</th>\n",
       "    </tr>\n",
       "  </thead>\n",
       "  <tbody>\n",
       "    <tr>\n",
       "      <th>0</th>\n",
       "      <td>fac0954a-2cdf-4c49-945c-11eb1ec34e5b</td>\n",
       "      <td>[I, can, create, beautiful, website]</td>\n",
       "      <td>[I, am, proficient, in, developing, beautiful,...</td>\n",
       "      <td>c9020099-95a9-4fc5-b803-0d98705373dc</td>\n",
       "      <td>1719987798155</td>\n",
       "      <td>1719987798155</td>\n",
       "      <td>488b4a66-ae2d-4499-bffe-a489b243c2b4</td>\n",
       "      <td>Voice Acting</td>\n",
       "    </tr>\n",
       "    <tr>\n",
       "      <th>1</th>\n",
       "      <td>6e81ab3a-26b5-4477-8bf0-80056ed28e56</td>\n",
       "      <td>[I, can, develop, mobile, apps]</td>\n",
       "      <td>[Professional, mobile, app, development, servi...</td>\n",
       "      <td>ab6ba278-59d5-47ec-9861-08835b06de34</td>\n",
       "      <td>1719987798160</td>\n",
       "      <td>1719987798160</td>\n",
       "      <td>c887fec6-42e4-496c-9a5d-0c54315332f6</td>\n",
       "      <td>Music Production</td>\n",
       "    </tr>\n",
       "    <tr>\n",
       "      <th>2</th>\n",
       "      <td>97566f29-cf79-4662-9f85-340023294fcf</td>\n",
       "      <td>[I, can, create, and, customize, e-commerce, w...</td>\n",
       "      <td>[I, am, proficient, in, developing, beautiful,...</td>\n",
       "      <td>e8c8c614-b006-4ce1-861d-a6ad18622361</td>\n",
       "      <td>1719987798156</td>\n",
       "      <td>1719987798156</td>\n",
       "      <td>d02e9b11-f2e2-49a6-b6a9-c3faaf725752</td>\n",
       "      <td>Telehealth Services</td>\n",
       "    </tr>\n",
       "    <tr>\n",
       "      <th>3</th>\n",
       "      <td>b4a8f6a4-b91a-4e62-b4bc-31e62358016f</td>\n",
       "      <td>[I, can, create, stunning, photography, services]</td>\n",
       "      <td>[I, am, experienced, in, creating, high-qualit...</td>\n",
       "      <td>3865168b-e11b-4f57-bdbd-ea9368ba7b95</td>\n",
       "      <td>1719987798161</td>\n",
       "      <td>1719987798161</td>\n",
       "      <td>0546e60d-4b3f-4f37-80f3-2d4aef2bd3fb</td>\n",
       "      <td>Pet Sitting</td>\n",
       "    </tr>\n",
       "    <tr>\n",
       "      <th>4</th>\n",
       "      <td>73af2df4-9aa7-46a6-b3b0-a19ed4d732c2</td>\n",
       "      <td>[I, can, create, stunning, logo, designs]</td>\n",
       "      <td>[I, am, experienced, in, creating, unique, and...</td>\n",
       "      <td>30941653-64e2-4653-9d58-b668f6afa8a1</td>\n",
       "      <td>1719987798155</td>\n",
       "      <td>1719987798155</td>\n",
       "      <td>a6e31aac-fc9e-4401-a333-05c9e894553b</td>\n",
       "      <td>Handyman Services</td>\n",
       "    </tr>\n",
       "  </tbody>\n",
       "</table>\n",
       "</div>"
      ],
      "text/plain": [
       "                                     id  \\\n",
       "0  fac0954a-2cdf-4c49-945c-11eb1ec34e5b   \n",
       "1  6e81ab3a-26b5-4477-8bf0-80056ed28e56   \n",
       "2  97566f29-cf79-4662-9f85-340023294fcf   \n",
       "3  b4a8f6a4-b91a-4e62-b4bc-31e62358016f   \n",
       "4  73af2df4-9aa7-46a6-b3b0-a19ed4d732c2   \n",
       "\n",
       "                                               title  \\\n",
       "0               [I, can, create, beautiful, website]   \n",
       "1                    [I, can, develop, mobile, apps]   \n",
       "2  [I, can, create, and, customize, e-commerce, w...   \n",
       "3  [I, can, create, stunning, photography, services]   \n",
       "4          [I, can, create, stunning, logo, designs]   \n",
       "\n",
       "                                         description  \\\n",
       "0  [I, am, proficient, in, developing, beautiful,...   \n",
       "1  [Professional, mobile, app, development, servi...   \n",
       "2  [I, am, proficient, in, developing, beautiful,...   \n",
       "3  [I, am, experienced, in, creating, high-qualit...   \n",
       "4  [I, am, experienced, in, creating, unique, and...   \n",
       "\n",
       "                              creatorId      createdAt      updatedAt  \\\n",
       "0  c9020099-95a9-4fc5-b803-0d98705373dc  1719987798155  1719987798155   \n",
       "1  ab6ba278-59d5-47ec-9861-08835b06de34  1719987798160  1719987798160   \n",
       "2  e8c8c614-b006-4ce1-861d-a6ad18622361  1719987798156  1719987798156   \n",
       "3  3865168b-e11b-4f57-bdbd-ea9368ba7b95  1719987798161  1719987798161   \n",
       "4  30941653-64e2-4653-9d58-b668f6afa8a1  1719987798155  1719987798155   \n",
       "\n",
       "                              jobTypeId                 type  \n",
       "0  488b4a66-ae2d-4499-bffe-a489b243c2b4         Voice Acting  \n",
       "1  c887fec6-42e4-496c-9a5d-0c54315332f6     Music Production  \n",
       "2  d02e9b11-f2e2-49a6-b6a9-c3faaf725752  Telehealth Services  \n",
       "3  0546e60d-4b3f-4f37-80f3-2d4aef2bd3fb          Pet Sitting  \n",
       "4  a6e31aac-fc9e-4401-a333-05c9e894553b    Handyman Services  "
      ]
     },
     "execution_count": 6,
     "metadata": {},
     "output_type": "execute_result"
    }
   ],
   "source": [
    "jobs.head()"
   ]
  },
  {
   "cell_type": "code",
   "execution_count": 7,
   "metadata": {},
   "outputs": [],
   "source": [
    "jobs['type'] = jobs['type'].apply(lambda x: [\"\".join(x)])"
   ]
  },
  {
   "cell_type": "code",
   "execution_count": 8,
   "metadata": {},
   "outputs": [],
   "source": [
    "jobs[\"tags\"] = jobs[\"title\"] + jobs[\"description\"] + jobs[\"type\"]\n"
   ]
  },
  {
   "cell_type": "code",
   "execution_count": 9,
   "metadata": {},
   "outputs": [
    {
     "name": "stdout",
     "output_type": "stream",
     "text": [
      "<class 'pandas.core.frame.DataFrame'>\n",
      "RangeIndex: 18 entries, 0 to 17\n",
      "Data columns (total 3 columns):\n",
      " #   Column  Non-Null Count  Dtype \n",
      "---  ------  --------------  ----- \n",
      " 0   id      18 non-null     object\n",
      " 1   title   18 non-null     object\n",
      " 2   tags    18 non-null     object\n",
      "dtypes: object(3)\n",
      "memory usage: 564.0+ bytes\n"
     ]
    },
    {
     "name": "stderr",
     "output_type": "stream",
     "text": [
      "/tmp/ipykernel_23824/1230452298.py:2: SettingWithCopyWarning: \n",
      "A value is trying to be set on a copy of a slice from a DataFrame\n",
      "\n",
      "See the caveats in the documentation: https://pandas.pydata.org/pandas-docs/stable/user_guide/indexing.html#returning-a-view-versus-a-copy\n",
      "  new_jobs.dropna(inplace=True)\n"
     ]
    }
   ],
   "source": [
    "new_jobs = jobs[[\"id\",\"title\",\"tags\"]]\n",
    "new_jobs.dropna(inplace=True)\n",
    "new_jobs.info()"
   ]
  },
  {
   "cell_type": "code",
   "execution_count": 10,
   "metadata": {},
   "outputs": [],
   "source": [
    "from sklearn.feature_extraction.text import CountVectorizer"
   ]
  },
  {
   "cell_type": "code",
   "execution_count": 11,
   "metadata": {},
   "outputs": [
    {
     "data": {
      "text/html": [
       "<style>#sk-container-id-1 {color: black;background-color: white;}#sk-container-id-1 pre{padding: 0;}#sk-container-id-1 div.sk-toggleable {background-color: white;}#sk-container-id-1 label.sk-toggleable__label {cursor: pointer;display: block;width: 100%;margin-bottom: 0;padding: 0.3em;box-sizing: border-box;text-align: center;}#sk-container-id-1 label.sk-toggleable__label-arrow:before {content: \"▸\";float: left;margin-right: 0.25em;color: #696969;}#sk-container-id-1 label.sk-toggleable__label-arrow:hover:before {color: black;}#sk-container-id-1 div.sk-estimator:hover label.sk-toggleable__label-arrow:before {color: black;}#sk-container-id-1 div.sk-toggleable__content {max-height: 0;max-width: 0;overflow: hidden;text-align: left;background-color: #f0f8ff;}#sk-container-id-1 div.sk-toggleable__content pre {margin: 0.2em;color: black;border-radius: 0.25em;background-color: #f0f8ff;}#sk-container-id-1 input.sk-toggleable__control:checked~div.sk-toggleable__content {max-height: 200px;max-width: 100%;overflow: auto;}#sk-container-id-1 input.sk-toggleable__control:checked~label.sk-toggleable__label-arrow:before {content: \"▾\";}#sk-container-id-1 div.sk-estimator input.sk-toggleable__control:checked~label.sk-toggleable__label {background-color: #d4ebff;}#sk-container-id-1 div.sk-label input.sk-toggleable__control:checked~label.sk-toggleable__label {background-color: #d4ebff;}#sk-container-id-1 input.sk-hidden--visually {border: 0;clip: rect(1px 1px 1px 1px);clip: rect(1px, 1px, 1px, 1px);height: 1px;margin: -1px;overflow: hidden;padding: 0;position: absolute;width: 1px;}#sk-container-id-1 div.sk-estimator {font-family: monospace;background-color: #f0f8ff;border: 1px dotted black;border-radius: 0.25em;box-sizing: border-box;margin-bottom: 0.5em;}#sk-container-id-1 div.sk-estimator:hover {background-color: #d4ebff;}#sk-container-id-1 div.sk-parallel-item::after {content: \"\";width: 100%;border-bottom: 1px solid gray;flex-grow: 1;}#sk-container-id-1 div.sk-label:hover label.sk-toggleable__label {background-color: #d4ebff;}#sk-container-id-1 div.sk-serial::before {content: \"\";position: absolute;border-left: 1px solid gray;box-sizing: border-box;top: 0;bottom: 0;left: 50%;z-index: 0;}#sk-container-id-1 div.sk-serial {display: flex;flex-direction: column;align-items: center;background-color: white;padding-right: 0.2em;padding-left: 0.2em;position: relative;}#sk-container-id-1 div.sk-item {position: relative;z-index: 1;}#sk-container-id-1 div.sk-parallel {display: flex;align-items: stretch;justify-content: center;background-color: white;position: relative;}#sk-container-id-1 div.sk-item::before, #sk-container-id-1 div.sk-parallel-item::before {content: \"\";position: absolute;border-left: 1px solid gray;box-sizing: border-box;top: 0;bottom: 0;left: 50%;z-index: -1;}#sk-container-id-1 div.sk-parallel-item {display: flex;flex-direction: column;z-index: 1;position: relative;background-color: white;}#sk-container-id-1 div.sk-parallel-item:first-child::after {align-self: flex-end;width: 50%;}#sk-container-id-1 div.sk-parallel-item:last-child::after {align-self: flex-start;width: 50%;}#sk-container-id-1 div.sk-parallel-item:only-child::after {width: 0;}#sk-container-id-1 div.sk-dashed-wrapped {border: 1px dashed gray;margin: 0 0.4em 0.5em 0.4em;box-sizing: border-box;padding-bottom: 0.4em;background-color: white;}#sk-container-id-1 div.sk-label label {font-family: monospace;font-weight: bold;display: inline-block;line-height: 1.2em;}#sk-container-id-1 div.sk-label-container {text-align: center;}#sk-container-id-1 div.sk-container {/* jupyter's `normalize.less` sets `[hidden] { display: none; }` but bootstrap.min.css set `[hidden] { display: none !important; }` so we also need the `!important` here to be able to override the default hidden behavior on the sphinx rendered scikit-learn.org. See: https://github.com/scikit-learn/scikit-learn/issues/21755 */display: inline-block !important;position: relative;}#sk-container-id-1 div.sk-text-repr-fallback {display: none;}</style><div id=\"sk-container-id-1\" class=\"sk-top-container\"><div class=\"sk-text-repr-fallback\"><pre>CountVectorizer(max_features=100, stop_words=&#x27;english&#x27;)</pre><b>In a Jupyter environment, please rerun this cell to show the HTML representation or trust the notebook. <br />On GitHub, the HTML representation is unable to render, please try loading this page with nbviewer.org.</b></div><div class=\"sk-container\" hidden><div class=\"sk-item\"><div class=\"sk-estimator sk-toggleable\"><input class=\"sk-toggleable__control sk-hidden--visually\" id=\"sk-estimator-id-1\" type=\"checkbox\" checked><label for=\"sk-estimator-id-1\" class=\"sk-toggleable__label sk-toggleable__label-arrow\">CountVectorizer</label><div class=\"sk-toggleable__content\"><pre>CountVectorizer(max_features=100, stop_words=&#x27;english&#x27;)</pre></div></div></div></div></div>"
      ],
      "text/plain": [
       "CountVectorizer(max_features=100, stop_words='english')"
      ]
     },
     "execution_count": 11,
     "metadata": {},
     "output_type": "execute_result"
    }
   ],
   "source": [
    "cv = CountVectorizer(max_features = 100, stop_words=\"english\")\n",
    "cv\n"
   ]
  },
  {
   "cell_type": "code",
   "execution_count": 12,
   "metadata": {},
   "outputs": [
    {
     "name": "stderr",
     "output_type": "stream",
     "text": [
      "/tmp/ipykernel_23824/677792311.py:1: SettingWithCopyWarning: \n",
      "A value is trying to be set on a copy of a slice from a DataFrame.\n",
      "Try using .loc[row_indexer,col_indexer] = value instead\n",
      "\n",
      "See the caveats in the documentation: https://pandas.pydata.org/pandas-docs/stable/user_guide/indexing.html#returning-a-view-versus-a-copy\n",
      "  new_jobs[\"tags\"] = new_jobs['tags'].apply(lambda x:' '.join(x))\n"
     ]
    }
   ],
   "source": [
    "new_jobs[\"tags\"] = new_jobs['tags'].apply(lambda x:' '.join(x))"
   ]
  },
  {
   "cell_type": "code",
   "execution_count": 13,
   "metadata": {},
   "outputs": [
    {
     "data": {
      "text/plain": [
       "(18, 100)"
      ]
     },
     "execution_count": 13,
     "metadata": {},
     "output_type": "execute_result"
    }
   ],
   "source": [
    "cv.fit_transform(new_jobs[\"tags\"]).toarray().shape"
   ]
  },
  {
   "cell_type": "code",
   "execution_count": 14,
   "metadata": {},
   "outputs": [],
   "source": [
    "from nltk.stem.porter import PorterStemmer\n",
    "ps = PorterStemmer()"
   ]
  },
  {
   "cell_type": "code",
   "execution_count": 18,
   "metadata": {},
   "outputs": [],
   "source": [
    "def stem(text):\n",
    "  y=[]\n",
    "  for i in text.split():\n",
    "    y.append(ps.stem(i))\n",
    "  return \" \".join(y)"
   ]
  },
  {
   "cell_type": "code",
   "execution_count": 19,
   "metadata": {},
   "outputs": [
    {
     "name": "stderr",
     "output_type": "stream",
     "text": [
      "/tmp/ipykernel_23824/1727861123.py:1: SettingWithCopyWarning: \n",
      "A value is trying to be set on a copy of a slice from a DataFrame.\n",
      "Try using .loc[row_indexer,col_indexer] = value instead\n",
      "\n",
      "See the caveats in the documentation: https://pandas.pydata.org/pandas-docs/stable/user_guide/indexing.html#returning-a-view-versus-a-copy\n",
      "  new_jobs['tags'] = new_jobs[\"tags\"].apply(stem)\n"
     ]
    }
   ],
   "source": [
    "new_jobs['tags'] = new_jobs[\"tags\"].apply(stem)"
   ]
  },
  {
   "cell_type": "code",
   "execution_count": 20,
   "metadata": {},
   "outputs": [
    {
     "data": {
      "text/plain": [
       "(18, 100)"
      ]
     },
     "execution_count": 20,
     "metadata": {},
     "output_type": "execute_result"
    }
   ],
   "source": [
    "cv.fit_transform(new_jobs[\"tags\"]).toarray().shape"
   ]
  },
  {
   "cell_type": "code",
   "execution_count": 21,
   "metadata": {},
   "outputs": [],
   "source": [
    "vectors = cv.fit_transform(new_jobs['tags']).toarray()"
   ]
  },
  {
   "cell_type": "code",
   "execution_count": 22,
   "metadata": {},
   "outputs": [],
   "source": [
    "from nltk.stem.porter import PorterStemmer\n",
    "ps = PorterStemmer()"
   ]
  },
  {
   "cell_type": "code",
   "execution_count": 23,
   "metadata": {},
   "outputs": [],
   "source": [
    "def stem(text):\n",
    "  y=[]\n",
    "  for i in text.split():\n",
    "    y.append(ps.stem(i))\n",
    "  return \" \".join(y)"
   ]
  },
  {
   "cell_type": "code",
   "execution_count": 24,
   "metadata": {},
   "outputs": [
    {
     "name": "stderr",
     "output_type": "stream",
     "text": [
      "/tmp/ipykernel_23824/1727861123.py:1: SettingWithCopyWarning: \n",
      "A value is trying to be set on a copy of a slice from a DataFrame.\n",
      "Try using .loc[row_indexer,col_indexer] = value instead\n",
      "\n",
      "See the caveats in the documentation: https://pandas.pydata.org/pandas-docs/stable/user_guide/indexing.html#returning-a-view-versus-a-copy\n",
      "  new_jobs['tags'] = new_jobs[\"tags\"].apply(stem)\n"
     ]
    }
   ],
   "source": [
    "new_jobs['tags'] = new_jobs[\"tags\"].apply(stem)"
   ]
  },
  {
   "cell_type": "code",
   "execution_count": 25,
   "metadata": {},
   "outputs": [],
   "source": [
    "from sklearn.metrics.pairwise import cosine_similarity"
   ]
  },
  {
   "cell_type": "code",
   "execution_count": 26,
   "metadata": {},
   "outputs": [
    {
     "data": {
      "text/plain": [
       "array([[1.        , 0.12964074, 0.6681531 , 0.12964074, 0.12262787,\n",
       "        0.11145564, 0.        , 0.06131393, 0.        , 0.88949918,\n",
       "        0.        , 0.17496355, 0.1069045 , 0.        , 0.06131393,\n",
       "        0.        , 0.09600307, 0.        ],\n",
       "       [0.12964074, 1.        , 0.18190172, 0.05882353, 0.11128298,\n",
       "        0.        , 0.10585122, 0.        , 0.14002801, 0.13453456,\n",
       "        0.        , 0.52925612, 0.        , 0.06262243, 0.05564149,\n",
       "        0.10341754, 0.04356068, 0.        ],\n",
       "       [0.6681531 , 0.18190172, 1.        , 0.18190172, 0.1720618 ,\n",
       "        0.10425721, 0.10910895, 0.05735393, 0.14433757, 0.69337525,\n",
       "        0.        , 0.16366342, 0.1       , 0.06454972, 0.11470787,\n",
       "        0.05330018, 0.13470398, 0.        ],\n",
       "       [0.12964074, 0.05882353, 0.18190172, 1.        , 0.38949042,\n",
       "        0.40457739, 0.26462806, 0.44513191, 0.14002801, 0.13453456,\n",
       "        0.12524486, 0.        , 0.48507125, 0.06262243, 0.22256595,\n",
       "        0.10341754, 0.04356068, 0.        ],\n",
       "       [0.12262787, 0.11128298, 0.1720618 , 0.38949042, 1.        ,\n",
       "        0.23918244, 0.10012523, 0.26315789, 0.13245324, 0.12725695,\n",
       "        0.        , 0.20025047, 0.45883147, 0.05923489, 0.26315789,\n",
       "        0.44020439, 0.12361285, 0.39837728],\n",
       "       [0.11145564, 0.        , 0.10425721, 0.40457739, 0.23918244,\n",
       "        1.        , 0.13650473, 0.19134595, 0.        , 0.11566299,\n",
       "        0.21535276, 0.        , 0.33362306, 0.32302914, 0.09567297,\n",
       "        0.        , 0.        , 0.        ],\n",
       "       [0.        , 0.10585122, 0.10910895, 0.26462806, 0.10012523,\n",
       "        0.13650473, 1.        , 0.15018785, 0.37796447, 0.        ,\n",
       "        0.16903085, 0.        , 0.13093073, 0.11268723, 0.3003757 ,\n",
       "        0.09304842, 0.07838618, 0.        ],\n",
       "       [0.06131393, 0.        , 0.05735393, 0.44513191, 0.26315789,\n",
       "        0.19134595, 0.15018785, 1.        , 0.        , 0.06362848,\n",
       "        0.17770466, 0.10012523, 0.32118203, 0.        , 0.10526316,\n",
       "        0.1956464 , 0.04120428, 0.19918864],\n",
       "       [0.        , 0.14002801, 0.14433757, 0.14002801, 0.13245324,\n",
       "        0.        , 0.37796447, 0.        , 1.        , 0.        ,\n",
       "        0.1490712 , 0.        , 0.        , 0.1490712 , 0.19867985,\n",
       "        0.12309149, 0.10369517, 0.        ],\n",
       "       [0.88949918, 0.13453456, 0.69337525, 0.13453456, 0.12725695,\n",
       "        0.11566299, 0.        , 0.06362848, 0.        , 1.        ,\n",
       "        0.07161149, 0.18156826, 0.11094004, 0.        , 0.06362848,\n",
       "        0.        , 0.0996271 , 0.        ],\n",
       "       [0.        , 0.        , 0.        , 0.12524486, 0.        ,\n",
       "        0.21535276, 0.16903085, 0.17770466, 0.1490712 , 0.07161149,\n",
       "        1.        , 0.        , 0.10327956, 0.33333333, 0.05923489,\n",
       "        0.        , 0.        , 0.        ],\n",
       "       [0.17496355, 0.52925612, 0.16366342, 0.        , 0.20025047,\n",
       "        0.        , 0.        , 0.10012523, 0.        , 0.18156826,\n",
       "        0.        , 1.        , 0.17457431, 0.        , 0.        ,\n",
       "        0.27914526, 0.07838618, 0.37893237],\n",
       "       [0.1069045 , 0.        , 0.1       , 0.48507125, 0.45883147,\n",
       "        0.33362306, 0.13093073, 0.32118203, 0.        , 0.11094004,\n",
       "        0.10327956, 0.17457431, 1.        , 0.        , 0.09176629,\n",
       "        0.298481  , 0.07184212, 0.34729726],\n",
       "       [0.        , 0.06262243, 0.06454972, 0.06262243, 0.05923489,\n",
       "        0.32302914, 0.11268723, 0.        , 0.1490712 , 0.        ,\n",
       "        0.33333333, 0.        , 0.        , 1.        , 0.05923489,\n",
       "        0.05504819, 0.04637389, 0.        ],\n",
       "       [0.06131393, 0.05564149, 0.11470787, 0.22256595, 0.26315789,\n",
       "        0.09567297, 0.3003757 , 0.10526316, 0.19867985, 0.06362848,\n",
       "        0.05923489, 0.        , 0.09176629, 0.05923489, 1.        ,\n",
       "        0.0489116 , 0.04120428, 0.        ],\n",
       "       [0.        , 0.10341754, 0.05330018, 0.10341754, 0.44020439,\n",
       "        0.        , 0.09304842, 0.1956464 , 0.12309149, 0.        ,\n",
       "        0.        , 0.27914526, 0.298481  , 0.05504819, 0.0489116 ,\n",
       "        1.        , 0.26804385, 0.87266171],\n",
       "       [0.09600307, 0.04356068, 0.13470398, 0.04356068, 0.12361285,\n",
       "        0.        , 0.07838618, 0.04120428, 0.10369517, 0.0996271 ,\n",
       "        0.        , 0.07838618, 0.07184212, 0.04637389, 0.04120428,\n",
       "        0.26804385, 1.        , 0.24505026],\n",
       "       [0.        , 0.        , 0.        , 0.        , 0.39837728,\n",
       "        0.        , 0.        , 0.19918864, 0.        , 0.        ,\n",
       "        0.        , 0.37893237, 0.34729726, 0.        , 0.        ,\n",
       "        0.87266171, 0.24505026, 1.        ]])"
      ]
     },
     "execution_count": 26,
     "metadata": {},
     "output_type": "execute_result"
    }
   ],
   "source": [
    "cosine_similarity(vectors)"
   ]
  },
  {
   "cell_type": "code",
   "execution_count": 40,
   "metadata": {},
   "outputs": [],
   "source": [
    "similarity = cosine_similarity(vectors)"
   ]
  },
  {
   "cell_type": "code",
   "execution_count": 43,
   "metadata": {},
   "outputs": [],
   "source": [
    "def recommend(job):\n",
    "    # Check if the job exists in the new_jobs DataFrame\n",
    "    if job not in new_jobs['id'].values:\n",
    "        print(\"Job ID not found.\")\n",
    "        return\n",
    "\n",
    "    # Get the index of the job\n",
    "    job_index = new_jobs[new_jobs['id'] == job].index[0]\n",
    "\n",
    "    # Calculate distances\n",
    "    distances = similarity[job_index]\n",
    "\n",
    "    # Sort jobs based on distance and get top 5 similar jobs\n",
    "    jobs_list = sorted(list(enumerate(distances)), reverse=True, key=lambda x: x[1])[1:6]\n",
    "\n",
    "    # Print job IDs of the recommended jobs\n",
    "    for i in jobs_list:\n",
    "        print(new_jobs.iloc[i[0]].id)\n"
   ]
  },
  {
   "cell_type": "code",
   "execution_count": 44,
   "metadata": {},
   "outputs": [
    {
     "name": "stdout",
     "output_type": "stream",
     "text": [
      "fac0954a-2cdf-4c49-945c-11eb1ec34e5b\n",
      "97566f29-cf79-4662-9f85-340023294fcf\n",
      "3fbbb83f-5d4f-4831-a9cf-c47e4df3d5fe\n",
      "b4a8f6a4-b91a-4e62-b4bc-31e62358016f\n",
      "6e81ab3a-26b5-4477-8bf0-80056ed28e56\n"
     ]
    }
   ],
   "source": [
    "recommend(\"808c93bb-04db-4938-9e62-01db528c2724\")"
   ]
  },
  {
   "cell_type": "code",
   "execution_count": null,
   "metadata": {},
   "outputs": [],
   "source": []
  }
 ],
 "metadata": {
  "kernelspec": {
   "display_name": "base",
   "language": "python",
   "name": "python3"
  },
  "language_info": {
   "codemirror_mode": {
    "name": "ipython",
    "version": 3
   },
   "file_extension": ".py",
   "mimetype": "text/x-python",
   "name": "python",
   "nbconvert_exporter": "python",
   "pygments_lexer": "ipython3",
   "version": "3.11.7"
  }
 },
 "nbformat": 4,
 "nbformat_minor": 2
}
